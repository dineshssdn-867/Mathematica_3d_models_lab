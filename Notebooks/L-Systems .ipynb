{
 "cells": [
  {
   "cell_type": "code",
   "execution_count": 1,
   "id": "67ceffc1",
   "metadata": {},
   "outputs": [],
   "source": [
    "from math import cos, sin, pi"
   ]
  },
  {
   "cell_type": "code",
   "execution_count": 2,
   "id": "629ca65a",
   "metadata": {},
   "outputs": [],
   "source": [
    "start = 'A'\n",
    "grow = {'A': '-BF+AFA+FB-', 'B': '+AF-BFB-FA+'}\n",
    "draw = {'F': lambda x, y, a:\n",
    "                (x + cos(a), y + sin(a), a),\n",
    "        '+': lambda x, y, a:\n",
    "                (x, y, a + pi/2),\n",
    "        '-': lambda x, y, a:\n",
    "                (x, y, a - pi/2)\n",
    "        }"
   ]
  },
  {
   "cell_type": "code",
   "execution_count": null,
   "id": "dea95094",
   "metadata": {},
   "outputs": [],
   "source": []
  }
 ],
 "metadata": {
  "kernelspec": {
   "display_name": "Python 3 (ipykernel)",
   "language": "python",
   "name": "python3"
  },
  "language_info": {
   "codemirror_mode": {
    "name": "ipython",
    "version": 3
   },
   "file_extension": ".py",
   "mimetype": "text/x-python",
   "name": "python",
   "nbconvert_exporter": "python",
   "pygments_lexer": "ipython3",
   "version": "3.9.7"
  }
 },
 "nbformat": 4,
 "nbformat_minor": 5
}
