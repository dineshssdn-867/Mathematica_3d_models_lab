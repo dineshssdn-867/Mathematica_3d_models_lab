{
 "cells": [
  {
   "cell_type": "markdown",
   "id": "59df5b06",
   "metadata": {},
   "source": [
    "# Import Libraries and installations"
   ]
  },
  {
   "cell_type": "code",
   "execution_count": 1,
   "id": "efdc0b16",
   "metadata": {},
   "outputs": [
    {
     "name": "stdout",
     "output_type": "stream",
     "text": [
      "Collecting https://github.com/intjelic/python-sfml.git\n",
      "  Using cached https://github.com/intjelic/python-sfml.git\n",
      "Note: you may need to restart the kernel to use updated packages.\n"
     ]
    },
    {
     "name": "stderr",
     "output_type": "stream",
     "text": [
      "  ERROR: Cannot unpack file C:\\Users\\Dinesh\\AppData\\Local\\Temp\\pip-unpack-cvy7fzql\\python-sfml.git (downloaded from C:\\Users\\Dinesh\\AppData\\Local\\Temp\\pip-req-build-ks1ix3i8, content-type: text/html; charset=utf-8); cannot detect archive format\n",
      "ERROR: Cannot determine archive format of C:\\Users\\Dinesh\\AppData\\Local\\Temp\\pip-req-build-ks1ix3i8\n"
     ]
    }
   ],
   "source": [
    "pip install https://github.com/intjelic/python-sfml.git"
   ]
  },
  {
   "cell_type": "code",
   "execution_count": null,
   "id": "cf20c96f",
   "metadata": {},
   "outputs": [],
   "source": [
    "from math import cos, sin, pi, sqrt\n",
    "import sfml as sf"
   ]
  },
  {
   "cell_type": "markdown",
   "id": "d8650954",
   "metadata": {},
   "source": [
    "# L System patterns"
   ]
  },
  {
   "cell_type": "markdown",
   "id": "45bdace1",
   "metadata": {},
   "source": [
    "## Hilbert Curve"
   ]
  },
  {
   "cell_type": "code",
   "execution_count": 2,
   "id": "be1adad5",
   "metadata": {},
   "outputs": [],
   "source": [
    "start = 'A'\n",
    "grow = {'A': '-BF+AFA+FB-', 'B': '+AF-BFB-FA+'}\n",
    "draw = {'F': lambda x, y, a:\n",
    "                (x + cos(a), y + sin(a), a),\n",
    "        '+': lambda x, y, a:\n",
    "                (x, y, a + pi/2),\n",
    "        '-': lambda x, y, a:\n",
    "                (x, y, a - pi/2)\n",
    "        }"
   ]
  },
  {
   "cell_type": "markdown",
   "id": "3ede137e",
   "metadata": {},
   "source": [
    "## Terdragon"
   ]
  },
  {
   "cell_type": "code",
   "execution_count": null,
   "id": "079bb5d9",
   "metadata": {},
   "outputs": [],
   "source": [
    "start = 'F'\n",
    "grow = {'F': 'F+F-F'}\n",
    "draw = {'F': lambda x, y, a:\n",
    "                (x + cos(a), y + sin(a), a),\n",
    "        '+': lambda x, y, a:\n",
    "                (x, y, a + 4*pi/6),\n",
    "        '-': lambda x, y, a:\n",
    "                (x, y, a - 4*pi/6)\n",
    "        }"
   ]
  },
  {
   "cell_type": "markdown",
   "id": "8033f17b",
   "metadata": {},
   "source": [
    "## Snowflake"
   ]
  },
  {
   "cell_type": "code",
   "execution_count": null,
   "id": "cb26de90",
   "metadata": {},
   "outputs": [],
   "source": [
    "start = 'F--F--F'\n",
    "grow = {'F': 'F+F--F+F'}\n",
    "draw = {'F': lambda x, y, a:\n",
    "                (x + cos(a), y + sin(a), a),\n",
    "        '+': lambda x, y, a:\n",
    "                (x, y, a + pi/3),\n",
    "        '-': lambda x, y, a:\n",
    "                (x, y, a - pi/3)\n",
    "        }"
   ]
  },
  {
   "cell_type": "markdown",
   "id": "453462b4",
   "metadata": {},
   "source": [
    "## Sierpinski"
   ]
  },
  {
   "cell_type": "code",
   "execution_count": null,
   "id": "538cbac5",
   "metadata": {},
   "outputs": [],
   "source": [
    "start = 'A'\n",
    "grow = {'A': 'B-A-B', 'B': 'A+B+A'}\n",
    "draw = {'A': lambda x, y, a:\n",
    "                (x + cos(a), y + sin(a), a),\n",
    "        'B': lambda x, y, a:\n",
    "                (x + cos(a), y + sin(a), a),\n",
    "        '+': lambda x, y, a:\n",
    "                (x, y, a + pi/3),\n",
    "        '-': lambda x, y, a:\n",
    "                (x, y, a - pi/3)\n",
    "        }"
   ]
  },
  {
   "cell_type": "markdown",
   "id": "078becd8",
   "metadata": {},
   "source": [
    "## Dragon"
   ]
  },
  {
   "cell_type": "code",
   "execution_count": null,
   "id": "9d020491",
   "metadata": {},
   "outputs": [],
   "source": [
    "start = 'FX'\n",
    "grow = {'X': 'X+YF', 'Y': 'FX-Y'}\n",
    "draw = {'F': lambda x, y, a:\n",
    "                (x + cos(a), y + sin(a), a),\n",
    "        '+': lambda x, y, a:\n",
    "                (x, y, a + pi/2),\n",
    "        '-': lambda x, y, a:\n",
    "                (x, y, a - pi/2)\n",
    "        }"
   ]
  },
  {
   "cell_type": "markdown",
   "id": "8e4f2480",
   "metadata": {},
   "source": [
    "## L-system Generator"
   ]
  },
  {
   "cell_type": "code",
   "execution_count": null,
   "id": "e1f270db",
   "metadata": {},
   "outputs": [],
   "source": [
    "'''Functions to grow and evaluate an L-system.'''\n",
    "\n",
    "def build_string(string, rules, iterations):\n",
    "    '''Recursively builds an L-system string, returning an generator.'''\n",
    "    if iterations == 0:\n",
    "        for char in string:\n",
    "            yield char\n",
    "    else:\n",
    "        for char in string:\n",
    "            if char in rules.keys():\n",
    "                for c in build_string(rules[char], rules, iterations - 1):\n",
    "                    yield c\n",
    "            else:\n",
    "                yield char\n",
    "\n",
    "def build_shape(string, functions, (x, y, a) = (0, 0, 0)):\n",
    "    '''Generate a set of vertices from an L-system generator and rules.'''\n",
    "    vertices = [(x, y)]\n",
    "    for c in string:\n",
    "        if c in functions.keys():\n",
    "            x, y, a = functions[c](x, y, a)\n",
    "            if (x, y) != vertices[-1]:\n",
    "                vertices += [(x, y)]\n",
    "    return vertices"
   ]
  },
  {
   "cell_type": "markdown",
   "id": "f21fde25",
   "metadata": {},
   "source": [
    "## L-shape formation"
   ]
  },
  {
   "cell_type": "code",
   "execution_count": null,
   "id": "78a1ab40",
   "metadata": {},
   "outputs": [],
   "source": [
    "class LShape(sf.Shape):\n",
    "    '''Simple container class to store a set of vertices.'''\n",
    "    def __init__(self, vertices):\n",
    "        sf.Shape.__init__(self)\n",
    "        self.vertices = vertices\n",
    "        \n",
    "        def close_enough((x1, y1), (x2, y2)):\n",
    "            return abs(x1 - x2) + abs(y1 - y2) < 0.001\n",
    "        self.closed = close_enough(self.vertices[0],self.vertices[-1])\n",
    "        \n",
    "    def get_point(self, index):\n",
    "        '''Overloaded function returning appropriate vertex.'''\n",
    "        if index < len(self.vertices):\n",
    "            return self.vertices[index]\n",
    "        else:\n",
    "            return self.vertices[len(self.vertices) - index - 1]\n",
    "    \n",
    "    def get_point_count(self):\n",
    "        '''Overloaded function returning vertex count.'''\n",
    "        if self.closed:\n",
    "            return len(self.vertices)\n",
    "        return len(self.vertices)*2\n",
    "    \n",
    "    def fit_view(self, target):\n",
    "        '''Based on vertex positions, calculates and sets an appropriate view.'''\n",
    "        xmin = min(v[0] for v in self.vertices)\n",
    "        xmax = max(v[0] for v in self.vertices)\n",
    "        ymin = min(v[1] for v in self.vertices)\n",
    "        ymax = max(v[1] for v in self.vertices)\n",
    "        \n",
    "        border = 5\n",
    "        xmin -= border\n",
    "        xmax += border\n",
    "        ymin -= border\n",
    "        ymax += border\n",
    "        \n",
    "        aspect_ratio = target.width / float(target.height)\n",
    "        width  = xmax - xmin\n",
    "        height = ymax - ymin\n",
    "\n",
    "        if width / height > aspect_ratio:\n",
    "            view_height = width / aspect_ratio\n",
    "            height_gap = view_height - height\n",
    "            view = sf.View.from_rect(\n",
    "                sf.FloatRect(xmin, ymax - height_gap/2,\n",
    "                             width, -view_height))\n",
    "        else:\n",
    "            view_width = height * aspect_ratio\n",
    "            width_gap = view_width - width\n",
    "            view = sf.View.from_rect(\n",
    "                sf.FloatRect(xmin - width_gap/2, ymax,\n",
    "                             view_width, -height))\n",
    "        return view\n"
   ]
  }
 ],
 "metadata": {
  "kernelspec": {
   "display_name": "Python 3 (ipykernel)",
   "language": "python",
   "name": "python3"
  },
  "language_info": {
   "codemirror_mode": {
    "name": "ipython",
    "version": 3
   },
   "file_extension": ".py",
   "mimetype": "text/x-python",
   "name": "python",
   "nbconvert_exporter": "python",
   "pygments_lexer": "ipython3",
   "version": "3.9.7"
  }
 },
 "nbformat": 4,
 "nbformat_minor": 5
}
