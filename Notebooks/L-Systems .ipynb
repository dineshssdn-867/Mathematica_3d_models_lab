{
 "cells": [
  {
   "cell_type": "markdown",
   "id": "410f397f",
   "metadata": {},
   "source": [
    "# Import Libraries and installations"
   ]
  },
  {
   "cell_type": "code",
   "execution_count": 8,
   "id": "0d97ea13",
   "metadata": {},
   "outputs": [
    {
     "name": "stdout",
     "output_type": "stream",
     "text": [
      "Collecting pysfml11\n",
      "  Using cached pysfml11-0.0.2.tar.gz (5.3 kB)\n",
      "  Preparing metadata (setup.py): started\n",
      "  Preparing metadata (setup.py): finished with status 'done'\n",
      "Requirement already satisfied: pybind11>=2.4 in e:\\ugrp\\anaconda\\lib\\site-packages (from pysfml11) (2.9.1)\n",
      "Building wheels for collected packages: pysfml11\n",
      "  Building wheel for pysfml11 (setup.py): started\n",
      "  Building wheel for pysfml11 (setup.py): finished with status 'error'\n",
      "  Running setup.py clean for pysfml11\n",
      "Failed to build pysfml11\n",
      "Installing collected packages: pysfml11\n",
      "  Running setup.py install for pysfml11: started\n",
      "  Running setup.py install for pysfml11: finished with status 'error'\n",
      "Note: you may need to restart the kernel to use updated packages.\n"
     ]
    },
    {
     "name": "stderr",
     "output_type": "stream",
     "text": [
      "  error: subprocess-exited-with-error\n",
      "  \n",
      "  python setup.py bdist_wheel did not run successfully.\n",
      "  exit code: 1\n",
      "  \n",
      "  [5 lines of output]\n",
      "  running bdist_wheel\n",
      "  running build\n",
      "  running build_ext\n",
      "  building 'pysfml11' extension\n",
      "  error: Microsoft Visual C++ 14.0 or greater is required. Get it with \"Microsoft C++ Build Tools\": https://visualstudio.microsoft.com/visual-cpp-build-tools/\n",
      "  [end of output]\n",
      "  \n",
      "  note: This error originates from a subprocess, and is likely not a problem with pip.\n",
      "  ERROR: Failed building wheel for pysfml11\n",
      "  error: subprocess-exited-with-error\n",
      "  \n",
      "  Running setup.py install for pysfml11 did not run successfully.\n",
      "  exit code: 1\n",
      "  \n",
      "  [7 lines of output]\n",
      "  running install\n",
      "  E:\\UGRP\\Anaconda\\lib\\site-packages\\setuptools\\command\\install.py:34: SetuptoolsDeprecationWarning: setup.py install is deprecated. Use build and pip and other standards-based tools.\n",
      "    warnings.warn(\n",
      "  running build\n",
      "  running build_ext\n",
      "  building 'pysfml11' extension\n",
      "  error: Microsoft Visual C++ 14.0 or greater is required. Get it with \"Microsoft C++ Build Tools\": https://visualstudio.microsoft.com/visual-cpp-build-tools/\n",
      "  [end of output]\n",
      "  \n",
      "  note: This error originates from a subprocess, and is likely not a problem with pip.\n",
      "error: legacy-install-failure\n",
      "\n",
      "Encountered error while trying to install package.\n",
      "\n",
      "pysfml11\n",
      "\n",
      "note: This is an issue with the package mentioned above, not pip.\n",
      "hint: See above for output from the failure.\n"
     ]
    }
   ],
   "source": [
    "pip install pysfml11"
   ]
  },
  {
   "cell_type": "code",
   "execution_count": 4,
   "id": "d208d819",
   "metadata": {},
   "outputs": [
    {
     "ename": "ModuleNotFoundError",
     "evalue": "No module named 'pysfml11'",
     "output_type": "error",
     "traceback": [
      "\u001b[1;31m---------------------------------------------------------------------------\u001b[0m",
      "\u001b[1;31mModuleNotFoundError\u001b[0m                       Traceback (most recent call last)",
      "\u001b[1;32m~\\AppData\\Local\\Temp/ipykernel_21456/1594975672.py\u001b[0m in \u001b[0;36m<module>\u001b[1;34m\u001b[0m\n\u001b[0;32m      1\u001b[0m \u001b[1;32mfrom\u001b[0m \u001b[0mmath\u001b[0m \u001b[1;32mimport\u001b[0m \u001b[0mcos\u001b[0m\u001b[1;33m,\u001b[0m \u001b[0msin\u001b[0m\u001b[1;33m,\u001b[0m \u001b[0mpi\u001b[0m\u001b[1;33m,\u001b[0m \u001b[0msqrt\u001b[0m\u001b[1;33m\u001b[0m\u001b[1;33m\u001b[0m\u001b[0m\n\u001b[1;32m----> 2\u001b[1;33m \u001b[1;32mimport\u001b[0m \u001b[0mpysfml11\u001b[0m \u001b[1;32mas\u001b[0m \u001b[0msf\u001b[0m\u001b[1;33m\u001b[0m\u001b[1;33m\u001b[0m\u001b[0m\n\u001b[0m",
      "\u001b[1;31mModuleNotFoundError\u001b[0m: No module named 'pysfml11'"
     ]
    }
   ],
   "source": [
    "from math import cos, sin, pi, sqrt\n",
    "import pysfml11 as sf"
   ]
  },
  {
   "cell_type": "markdown",
   "id": "c5690056",
   "metadata": {},
   "source": [
    "# L System patterns"
   ]
  },
  {
   "cell_type": "markdown",
   "id": "f99d0292",
   "metadata": {},
   "source": [
    "## Hilbert Curve"
   ]
  },
  {
   "cell_type": "code",
   "execution_count": 2,
   "id": "e63a3fad",
   "metadata": {},
   "outputs": [],
   "source": [
    "start = 'A'\n",
    "grow = {'A': '-BF+AFA+FB-', 'B': '+AF-BFB-FA+'}\n",
    "draw = {'F': lambda x, y, a:\n",
    "                (x + cos(a), y + sin(a), a),\n",
    "        '+': lambda x, y, a:\n",
    "                (x, y, a + pi/2),\n",
    "        '-': lambda x, y, a:\n",
    "                (x, y, a - pi/2)\n",
    "        }"
   ]
  },
  {
   "cell_type": "markdown",
   "id": "4d303fcf",
   "metadata": {},
   "source": [
    "## Terdragon"
   ]
  },
  {
   "cell_type": "code",
   "execution_count": null,
   "id": "b1d42641",
   "metadata": {},
   "outputs": [],
   "source": [
    "start = 'F'\n",
    "grow = {'F': 'F+F-F'}\n",
    "draw = {'F': lambda x, y, a:\n",
    "                (x + cos(a), y + sin(a), a),\n",
    "        '+': lambda x, y, a:\n",
    "                (x, y, a + 4*pi/6),\n",
    "        '-': lambda x, y, a:\n",
    "                (x, y, a - 4*pi/6)\n",
    "        }"
   ]
  },
  {
   "cell_type": "markdown",
   "id": "f7c1254e",
   "metadata": {},
   "source": [
    "## Snowflake"
   ]
  },
  {
   "cell_type": "code",
   "execution_count": null,
   "id": "94412210",
   "metadata": {},
   "outputs": [],
   "source": [
    "start = 'F--F--F'\n",
    "grow = {'F': 'F+F--F+F'}\n",
    "draw = {'F': lambda x, y, a:\n",
    "                (x + cos(a), y + sin(a), a),\n",
    "        '+': lambda x, y, a:\n",
    "                (x, y, a + pi/3),\n",
    "        '-': lambda x, y, a:\n",
    "                (x, y, a - pi/3)\n",
    "        }"
   ]
  },
  {
   "cell_type": "markdown",
   "id": "653cf105",
   "metadata": {},
   "source": [
    "## Sierpinski"
   ]
  },
  {
   "cell_type": "code",
   "execution_count": null,
   "id": "90ca7bcf",
   "metadata": {},
   "outputs": [],
   "source": [
    "start = 'A'\n",
    "grow = {'A': 'B-A-B', 'B': 'A+B+A'}\n",
    "draw = {'A': lambda x, y, a:\n",
    "                (x + cos(a), y + sin(a), a),\n",
    "        'B': lambda x, y, a:\n",
    "                (x + cos(a), y + sin(a), a),\n",
    "        '+': lambda x, y, a:\n",
    "                (x, y, a + pi/3),\n",
    "        '-': lambda x, y, a:\n",
    "                (x, y, a - pi/3)\n",
    "        }"
   ]
  },
  {
   "cell_type": "markdown",
   "id": "0d9a9141",
   "metadata": {},
   "source": [
    "## Dragon"
   ]
  },
  {
   "cell_type": "code",
   "execution_count": null,
   "id": "1fcc52ef",
   "metadata": {},
   "outputs": [],
   "source": [
    "start = 'FX'\n",
    "grow = {'X': 'X+YF', 'Y': 'FX-Y'}\n",
    "draw = {'F': lambda x, y, a:\n",
    "                (x + cos(a), y + sin(a), a),\n",
    "        '+': lambda x, y, a:\n",
    "                (x, y, a + pi/2),\n",
    "        '-': lambda x, y, a:\n",
    "                (x, y, a - pi/2)\n",
    "        }"
   ]
  },
  {
   "cell_type": "markdown",
   "id": "a8c59d4e",
   "metadata": {},
   "source": [
    "## L-system Generator"
   ]
  },
  {
   "cell_type": "code",
   "execution_count": null,
   "id": "4b5ef923",
   "metadata": {},
   "outputs": [],
   "source": [
    "'''Functions to grow and evaluate an L-system.'''\n",
    "\n",
    "def build_string(string, rules, iterations):\n",
    "    '''Recursively builds an L-system string, returning an generator.'''\n",
    "    if iterations == 0:\n",
    "        for char in string:\n",
    "            yield char\n",
    "    else:\n",
    "        for char in string:\n",
    "            if char in rules.keys():\n",
    "                for c in build_string(rules[char], rules, iterations - 1):\n",
    "                    yield c\n",
    "            else:\n",
    "                yield char\n",
    "\n",
    "def build_shape(string, functions, (x, y, a) = (0, 0, 0)):\n",
    "    '''Generate a set of vertices from an L-system generator and rules.'''\n",
    "    vertices = [(x, y)]\n",
    "    for c in string:\n",
    "        if c in functions.keys():\n",
    "            x, y, a = functions[c](x, y, a)\n",
    "            if (x, y) != vertices[-1]:\n",
    "                vertices += [(x, y)]\n",
    "    return vertices"
   ]
  },
  {
   "cell_type": "markdown",
   "id": "4bfbdbe8",
   "metadata": {},
   "source": [
    "## L-shape formation"
   ]
  },
  {
   "cell_type": "code",
   "execution_count": null,
   "id": "6a667340",
   "metadata": {},
   "outputs": [],
   "source": [
    "class LShape(sf.Shape):\n",
    "    '''Simple container class to store a set of vertices.'''\n",
    "    def __init__(self, vertices):\n",
    "        sf.Shape.__init__(self)\n",
    "        self.vertices = vertices\n",
    "        \n",
    "        def close_enough((x1, y1), (x2, y2)):\n",
    "            return abs(x1 - x2) + abs(y1 - y2) < 0.001\n",
    "        self.closed = close_enough(self.vertices[0],self.vertices[-1])\n",
    "        \n",
    "    def get_point(self, index):\n",
    "        '''Overloaded function returning appropriate vertex.'''\n",
    "        if index < len(self.vertices):\n",
    "            return self.vertices[index]\n",
    "        else:\n",
    "            return self.vertices[len(self.vertices) - index - 1]\n",
    "    \n",
    "    def get_point_count(self):\n",
    "        '''Overloaded function returning vertex count.'''\n",
    "        if self.closed:\n",
    "            return len(self.vertices)\n",
    "        return len(self.vertices)*2\n",
    "    \n",
    "    def fit_view(self, target):\n",
    "        '''Based on vertex positions, calculates and sets an appropriate view.'''\n",
    "        xmin = min(v[0] for v in self.vertices)\n",
    "        xmax = max(v[0] for v in self.vertices)\n",
    "        ymin = min(v[1] for v in self.vertices)\n",
    "        ymax = max(v[1] for v in self.vertices)\n",
    "        \n",
    "        border = 5\n",
    "        xmin -= border\n",
    "        xmax += border\n",
    "        ymin -= border\n",
    "        ymax += border\n",
    "        \n",
    "        aspect_ratio = target.width / float(target.height)\n",
    "        width  = xmax - xmin\n",
    "        height = ymax - ymin\n",
    "\n",
    "        if width / height > aspect_ratio:\n",
    "            view_height = width / aspect_ratio\n",
    "            height_gap = view_height - height\n",
    "            view = sf.View.from_rect(\n",
    "                sf.FloatRect(xmin, ymax - height_gap/2,\n",
    "                             width, -view_height))\n",
    "        else:\n",
    "            view_width = height * aspect_ratio\n",
    "            width_gap = view_width - width\n",
    "            view = sf.View.from_rect(\n",
    "                sf.FloatRect(xmin - width_gap/2, ymax,\n",
    "                             view_width, -height))\n",
    "        return view\n"
   ]
  }
 ],
 "metadata": {
  "kernelspec": {
   "display_name": "Python 3 (ipykernel)",
   "language": "python",
   "name": "python3"
  },
  "language_info": {
   "codemirror_mode": {
    "name": "ipython",
    "version": 3
   },
   "file_extension": ".py",
   "mimetype": "text/x-python",
   "name": "python",
   "nbconvert_exporter": "python",
   "pygments_lexer": "ipython3",
   "version": "3.9.7"
  }
 },
 "nbformat": 4,
 "nbformat_minor": 5
}
